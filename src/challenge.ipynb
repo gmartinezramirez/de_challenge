{
 "cells": [
  {
   "cell_type": "markdown",
   "metadata": {},
   "source": [
    "En este archivo puedes escribir lo que estimes conveniente. Te recomendamos detallar tu solución y todas las suposiciones que estás considerando. Aquí puedes ejecutar las funciones que definiste en los otros archivos de la carpeta src, medir el tiempo, memoria, etc."
   ]
  },
  {
   "cell_type": "code",
   "execution_count": 6,
   "metadata": {},
   "outputs": [],
   "source": [
    "file_path = \"farmers-protest-tweets-2021-2-4.json\""
   ]
  },
  {
   "cell_type": "markdown",
   "metadata": {},
   "source": [
    "## Q1: Top 10 Tweets\n",
    "\n",
    "\n",
    "### GCP Benchmark: q1_memory vs q1_time (ambos sin query cache)\n",
    "\n",
    "\n",
    "| Medicion                                      | q1_memory | q1_time |\n",
    "|-----------------------------------------------|-----------|---------|\n",
    "| Tiempo ejecución en cliente                   | 2.05 segundos | 1.70 segundos |\n",
    "| Tiempo ejecución en GCP (server)              | 0.828 segundos | 0.59 segundos |\n",
    "| Delta tiempo (client-server)                  | 1.22 segundos | 1.11 segundos |\n",
    "| Memoria usada por cliente                     | N/A | N/A |\n",
    "| CPU usado por cliente                     | N/A | N/A |\n",
    "| Bytes Procesados en GCP (server)              | 2,569,405 bytes | 2,569,405 bytes |\n",
    "| Slot Machine tiempo usado (GCP CPU Time) (ms) | 21,054 ms | 1,472 ms |\n",
    "| BigQuery Total steps en QueryPlan             | 10 | 5 |\n",
    "\n",
    "### Q1 Query Plan Steps Table (ambos sin query cache)\n",
    "\n",
    "| Step | q1_memory                                   | q1_time                                |\n",
    "|------|---------------------------------------------------------------|-----------------------------------------------------------|\n",
    "| S00  | **Input**: Records read: 117407, Records written: 13, Status: COMPLETE | **Input**: Records read: 117407, Records written: 51646, Status: COMPLETE |\n",
    "| S01  | **Sort+**: Records read: 13, Records written: 10, Status: COMPLETE | **Aggregate+**: Records read: 51646, Records written: 13, Status: COMPLETE |\n",
    "| S02  | **Sort**: Records read: 10, Records written: 10, Status: COMPLETE | **Sort+**: Records read: 13, Records written: 10, Status: COMPLETE |\n",
    "| S03  | **Coalesce**: Records read: 10, Records written: 10, Status: COMPLETE | **Sort+**: Records read: 10, Records written: 10, Status: COMPLETE |\n",
    "| S04  | **Join+**: Records read: 117537, Records written: 44159, Status: COMPLETE | **Output**: Records read: 10, Records written: 10, Status: COMPLETE |\n",
    "| S06  | **Sort**: Records read: 10, Records written: 10, Status: COMPLETE |                                                           |\n",
    "| S07  | **Coalesce**: Records read: 10, Records written: 10, Status: COMPLETE |                                                           |\n",
    "| S08  | **Join+**: Records read: 44169, Records written: 10, Status: COMPLETE |                                                           |\n",
    "| S09  | **Aggregate+**: Records read: 10, Records written: 10, Status: COMPLETE |                                                           |\n",
    "| S0A  | **Output**: Records read: 10, Records written: 10, Status: COMPLETE |                                                           |\n",
    "\n"
   ]
  },
  {
   "cell_type": "markdown",
   "metadata": {},
   "source": [
    "## Q2: Emojis\n",
    "\n",
    "### Q2 Benchmark Table\n",
    "\n",
    "| Medicion                                      | q2_memory        | q2_time         |\n",
    "|-----------------------------------------------|------------------|-----------------|\n",
    "| Tiempo ejecución en cliente                   | 3.08 segundos    | 1.59 segundos   |\n",
    "| Tiempo ejecución en GCP (server)              | 1.161 segundos   | 0.47 segundos   |\n",
    "| Delta tiempo (client-server)                  | 1.92 segundos    | 1.12 segundos   |\n",
    "| Memoria usada por cliente                     | N/A              | N/A             |\n",
    "| CPU usado por cliente                     | N/A | N/A |\n",
    "| Bytes procesados en GCP (server)              | 21,869,484 bytes (20.86 MB) | 21,869,484 bytes (20.86 MB) |\n",
    "| Bytes facturados en GCP                       | 22,020,096 bytes (21 MB)    | 22,020,096 bytes (21 MB)    |\n",
    "| Slot Machine tiempo usado (GCP CPU Time) (ms) | 55,207 ms        | 921 ms          |\n",
    "| BigQuery Total steps en QueryPlan             | 10               | 3               |\n",
    "\n",
    "### Q2 Query Plan Steps Table\n",
    "\n",
    "| Step | q2_memory (Q2_MEMORY_QUERY)                                   | q2_time (Q2_TIME_QUERY)                                    |\n",
    "|------|---------------------------------------------------------------|-----------------------------------------------------------|\n",
    "| S00  | **Input**: Records read: 117407, Records written: 419, Status: COMPLETE | **Input**: Records read: 117407, Records written: 419, Status: COMPLETE |\n",
    "| S01  | **Aggregate**: Records read: 419, Records written: 85, Status: COMPLETE | **Sort+**: Records read: 419, Records written: 10, Status: COMPLETE |\n",
    "| S02  | **Aggregate+**: Records read: 85, Records written: 1, Status: COMPLETE | **Output**: Records read: 10, Records written: 10, Status: COMPLETE |\n",
    "| S03  | **Aggregate**: Records read: 1, Records written: 1, Status: COMPLETE |                                                           |\n",
    "| S04  | **Sort+**: Records read: 86, Records written: 85, Status: COMPLETE |                                                           |\n",
    "| S05  | **Aggregate**: Records read: 85, Records written: 82, Status: COMPLETE |                                                           |\n",
    "| S06  | **Aggregate+**: Records read: 82, Records written: 35, Status: COMPLETE |                                                           |\n",
    "| S08  | **Coalesce**: Records read: 35, Records written: 35, Status: COMPLETE |                                                           |\n",
    "| S09  | **Join+**: Records read: 2115, Records written: 10, Status: COMPLETE |                                                           |\n",
    "| S0A  | **Output**: Records read: 10, Records written: 10, Status: COMPLETE |                                                           |\n"
   ]
  },
  {
   "cell_type": "markdown",
   "metadata": {},
   "source": [
    "## Q3: Menciones\n",
    "\n",
    "### Q3 Benchmark Table\n",
    "\n",
    "| Medicion                                      | q3_memory        | q3_time         |\n",
    "|-----------------------------------------------|------------------|-----------------|\n",
    "| Tiempo ejecución en cliente                   | 2.33 segundos    | 1.48 segundos   |\n",
    "| Tiempo ejecución en GCP (server)              | 0.48 segundos    | 0.515 segundos  |\n",
    "| Delta tiempo (client-server)                  | 1.85 segundos    | 0.97 segundos   |\n",
    "| Memoria usada por cliente                     | N/A              | N/A             |\n",
    "| CPU usado por cliente                     | N/A | N/A |\n",
    "| Bytes procesados en GCP (server)              | 7,504,281 bytes (7.16 MB)   | 1,328,457 bytes (1.27 MB)  |\n",
    "| Bytes facturados en GCP                       | 10,485,760 bytes (10 MB)    | 10,485,760 bytes (10 MB)   |\n",
    "| Slot Machine tiempo usado (GCP CPU Time) (ms) | 616 ms           | 681 ms          |\n",
    "| BigQuery Total steps en QueryPlan             | 3                | 3               |\n",
    "\n",
    "### Q3 Query Plan Steps Table\n",
    "\n",
    "| Step | q3_memory (Q3_MEMORY_QUERY)                                   | q3_time (Q3_TIME_QUERY)                                    |\n",
    "|------|---------------------------------------------------------------|-----------------------------------------------------------|\n",
    "| S00  | **Input**: Records read: 117407, Records written: 31260, Status: COMPLETE | **Input**: Records read: 117407, Records written: 31260, Status: COMPLETE |\n",
    "| S01  | **Sort+**: Records read: 31260, Records written: 10, Status: COMPLETE | **Sort+**: Records read: 31260, Records written: 10, Status: COMPLETE |\n",
    "| S02  | **Output**: Records read: 10, Records written: 10, Status: COMPLETE | **Output**: Records read: 10, Records written: 10, Status: COMPLETE |"
   ]
  }
 ],
 "metadata": {
  "kernelspec": {
   "display_name": "myenv",
   "language": "python",
   "name": "python3"
  },
  "language_info": {
   "codemirror_mode": {
    "name": "ipython",
    "version": 3
   },
   "file_extension": ".py",
   "mimetype": "text/x-python",
   "name": "python",
   "nbconvert_exporter": "python",
   "pygments_lexer": "ipython3",
   "version": "3.12.3"
  },
  "orig_nbformat": 4
 },
 "nbformat": 4,
 "nbformat_minor": 2
}
